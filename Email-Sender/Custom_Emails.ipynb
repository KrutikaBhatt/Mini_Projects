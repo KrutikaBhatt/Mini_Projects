{
 "cells": [
  {
   "cell_type": "markdown",
   "metadata": {
    "id": "FFwH4oJZgp7U"
   },
   "source": [
    "Sometimes we have send emails to multiple people in a personalized way. The pattern for every email is same but the content is different according to recipients.We can Automate this process."
   ]
  },
  {
   "cell_type": "markdown",
   "metadata": {
    "id": "0-q6XPwaiGn6"
   },
   "source": [
    "## **Send Custom Mails using python**"
   ]
  },
  {
   "cell_type": "code",
   "execution_count": 1,
   "metadata": {
    "id": "V8G_9Du_gbgz"
   },
   "outputs": [],
   "source": [
    "# Importing required file\n",
    "import smtplib\n",
    "import csv\n",
    "from string import Template\n",
    "from email.mime.multipart import MIMEMultipart\n",
    "from email.mime.text import MIMEText\n"
   ]
  },
  {
   "cell_type": "code",
   "execution_count": 2,
   "metadata": {
    "colab": {
     "base_uri": "https://localhost:8080/",
     "height": 107
    },
    "id": "qg63ZldRsinj",
    "outputId": "e91f2844-bfa1-43c7-b8ae-6d7058c6e8d2"
   },
   "outputs": [
    {
     "name": "stdout",
     "output_type": "stream",
     "text": [
      " ************** Log In ***************\n",
      "Enter the email Address :diamondsshine532@gmail.com\n",
      "Password :krutika%3012\n",
      "Login Successful\n"
     ]
    }
   ],
   "source": [
    "print(\" ************** Log In ***************\")\n",
    "ADDRESS= input(\"Enter the email Address :\")\n",
    "PASSWORD = input(\"Password :\")\n",
    "if (ADDRESS.find(\"@gmail.com\") == -1):\n",
    "  print(\" Email is invalid, Enter again !!\")\n",
    "else:\n",
    "  try:\n",
    "    s = smtplib.SMTP(host='smtp.gmail.com', port=587)\n",
    "    s.ehlo()\n",
    "    s.starttls()\n",
    "    s.login(ADDRESS, PASSWORD)\n",
    "    print(\"Login Successful\")\n",
    "  except Exception as e:\n",
    "    print(\"Exception Occured :{}\".format(e))\n"
   ]
  },
  {
   "cell_type": "markdown",
   "metadata": {},
   "source": [
    "#### Lets read the csv file with all the records . Its a demo file, user can add more records"
   ]
  },
  {
   "cell_type": "code",
   "execution_count": 3,
   "metadata": {},
   "outputs": [
    {
     "data": {
      "text/html": [
       "<div>\n",
       "<style scoped>\n",
       "    .dataframe tbody tr th:only-of-type {\n",
       "        vertical-align: middle;\n",
       "    }\n",
       "\n",
       "    .dataframe tbody tr th {\n",
       "        vertical-align: top;\n",
       "    }\n",
       "\n",
       "    .dataframe thead th {\n",
       "        text-align: right;\n",
       "    }\n",
       "</style>\n",
       "<table border=\"1\" class=\"dataframe\">\n",
       "  <thead>\n",
       "    <tr style=\"text-align: right;\">\n",
       "      <th></th>\n",
       "      <th>PERSON_NAME</th>\n",
       "      <th>TIMING</th>\n",
       "      <th>SPEAKER</th>\n",
       "      <th>PASS_NO</th>\n",
       "      <th>MEMBERS</th>\n",
       "      <th>THEATER</th>\n",
       "      <th>SEAT_NO</th>\n",
       "      <th>EMAIL</th>\n",
       "    </tr>\n",
       "  </thead>\n",
       "  <tbody>\n",
       "    <tr>\n",
       "      <th>0</th>\n",
       "      <td>Aksay</td>\n",
       "      <td>5:30 PM</td>\n",
       "      <td>Mr. Chahan</td>\n",
       "      <td>F01234</td>\n",
       "      <td>2</td>\n",
       "      <td>A1</td>\n",
       "      <td>K14-K15</td>\n",
       "      <td>pracheetabhatt@gmail.com</td>\n",
       "    </tr>\n",
       "    <tr>\n",
       "      <th>1</th>\n",
       "      <td>Aman</td>\n",
       "      <td>5:30 PM</td>\n",
       "      <td>Mr. Chahan</td>\n",
       "      <td>F01357</td>\n",
       "      <td>5</td>\n",
       "      <td>A1</td>\n",
       "      <td>D2-D6</td>\n",
       "      <td>krutikabhatt222@gmail.com</td>\n",
       "    </tr>\n",
       "    <tr>\n",
       "      <th>2</th>\n",
       "      <td>Krutika</td>\n",
       "      <td>5:30 PM</td>\n",
       "      <td>Mr. Chahan</td>\n",
       "      <td>MR1234</td>\n",
       "      <td>2</td>\n",
       "      <td>A1</td>\n",
       "      <td>F23-F24</td>\n",
       "      <td>krutika.bhatt@somaiya.edu</td>\n",
       "    </tr>\n",
       "    <tr>\n",
       "      <th>3</th>\n",
       "      <td>Aishwaya</td>\n",
       "      <td>8:00 PM</td>\n",
       "      <td>Mrs. Alisha Roy</td>\n",
       "      <td>AR4893</td>\n",
       "      <td>1</td>\n",
       "      <td>B2</td>\n",
       "      <td>E12</td>\n",
       "      <td>diamondsshine532@gmail.com</td>\n",
       "    </tr>\n",
       "  </tbody>\n",
       "</table>\n",
       "</div>"
      ],
      "text/plain": [
       "  PERSON_NAME   TIMING          SPEAKER PASS_NO  MEMBERS THEATER  SEAT_NO  \\\n",
       "0       Aksay  5:30 PM       Mr. Chahan  F01234        2      A1  K14-K15   \n",
       "1       Aman   5:30 PM       Mr. Chahan  F01357        5      A1    D2-D6   \n",
       "2     Krutika  5:30 PM       Mr. Chahan  MR1234        2      A1  F23-F24   \n",
       "3    Aishwaya  8:00 PM  Mrs. Alisha Roy  AR4893        1      B2      E12   \n",
       "\n",
       "                        EMAIL  \n",
       "0    pracheetabhatt@gmail.com  \n",
       "1   krutikabhatt222@gmail.com  \n",
       "2   krutika.bhatt@somaiya.edu  \n",
       "3  diamondsshine532@gmail.com  "
      ]
     },
     "execution_count": 3,
     "metadata": {},
     "output_type": "execute_result"
    }
   ],
   "source": [
    "import pandas as pd\n",
    "df=pd.read_csv('Email.csv')\n",
    "df.head()"
   ]
  },
  {
   "cell_type": "markdown",
   "metadata": {},
   "source": [
    "#### Lets read the text file - Email content file "
   ]
  },
  {
   "cell_type": "code",
   "execution_count": 4,
   "metadata": {},
   "outputs": [
    {
     "name": "stdout",
     "output_type": "stream",
     "text": [
      "Dear ${PERSON_NAME},\n",
      "\n",
      "This is a remainder for the registered seminar.We have mentioned the details below :-\n",
      "\n",
      "Timing : ${TIMING}\n",
      "Speaker :${SPEAKER}\n",
      "\n",
      "Pass number : ${PASS_NO}\n",
      "Number of member : ${MEMBERS}\n",
      "Theater set : ${THEATER}\n",
      "Seat number : ${SEAT_NO}\n",
      "\n",
      "\n",
      "\n",
      "\n",
      "\n",
      "\n"
     ]
    }
   ],
   "source": [
    "f=open('email_content.txt')\n",
    "Text=f.read()\n",
    "print(Text)"
   ]
  },
  {
   "cell_type": "code",
   "execution_count": 5,
   "metadata": {},
   "outputs": [],
   "source": [
    "def read_template(filename):\n",
    "    f=open(filename)\n",
    "    text=f.read()\n",
    "    return Template(text)\n"
   ]
  },
  {
   "cell_type": "code",
   "execution_count": 6,
   "metadata": {},
   "outputs": [
    {
     "name": "stdout",
     "output_type": "stream",
     "text": [
      "Dear Aksay,\n",
      "\n",
      "This is a remainder for the registered seminar.We have mentioned the details below :-\n",
      "\n",
      "Timing : 5:30 PM\n",
      "Speaker :Mr. Chahan\n",
      "\n",
      "Pass number : F01234\n",
      "Number of member : 2\n",
      "Theater set : A1\n",
      "Seat number : K14-K15\n",
      "\n",
      "\n",
      "\n",
      "\n",
      "\n",
      "\n",
      "Dear Aman ,\n",
      "\n",
      "This is a remainder for the registered seminar.We have mentioned the details below :-\n",
      "\n",
      "Timing : 5:30 PM\n",
      "Speaker :Mr. Chahan\n",
      "\n",
      "Pass number : F01357\n",
      "Number of member : 5\n",
      "Theater set : A1\n",
      "Seat number : D2-D6\n",
      "\n",
      "\n",
      "\n",
      "\n",
      "\n",
      "\n",
      "Dear Krutika,\n",
      "\n",
      "This is a remainder for the registered seminar.We have mentioned the details below :-\n",
      "\n",
      "Timing : 5:30 PM\n",
      "Speaker :Mr. Chahan\n",
      "\n",
      "Pass number : MR1234\n",
      "Number of member : 2\n",
      "Theater set : A1\n",
      "Seat number : F23-F24\n",
      "\n",
      "\n",
      "\n",
      "\n",
      "\n",
      "\n",
      "Dear Aishwaya,\n",
      "\n",
      "This is a remainder for the registered seminar.We have mentioned the details below :-\n",
      "\n",
      "Timing : 8:00 PM\n",
      "Speaker :Mrs. Alisha Roy\n",
      "\n",
      "Pass number : AR4893\n",
      "Number of member : 1\n",
      "Theater set : B2\n",
      "Seat number : E12\n",
      "\n",
      "\n",
      "\n",
      "\n",
      "\n",
      "\n"
     ]
    }
   ],
   "source": [
    "msg_template = read_template('email_content.txt')\n",
    "\n",
    "with open(\"Email.csv\", \"r\") as csv_file:\n",
    "    csv_reader = csv.reader(csv_file, delimiter=',')\n",
    "    next(csv_reader)\n",
    "    \n",
    "    for row in csv_reader:\n",
    "        #Start the connection\n",
    "        s = smtplib.SMTP(host='smtp.gmail.com', port=587)\n",
    "        s.ehlo()\n",
    "        s.starttls()\n",
    "        s.login(ADDRESS, PASSWORD)\n",
    "        \n",
    "        msg = MIMEMultipart() # create a message\n",
    "        # add in the actual person name to the message template\n",
    "        message = msg_template.substitute(PERSON_NAME =row[0],TIMING=row[1],SPEAKER=row[2],\n",
    "                                          PASS_NO =row[3],MEMBERS=row[4],THEATER = row[5],SEAT_NO=row[6])\n",
    "        \n",
    "        msg['From'] =ADDRESS\n",
    "        msg['To'] = row[7]\n",
    "        msg['Subject']=\"Remainder for seminar\"\n",
    "        msg.attach(MIMEText(message, 'plain','utf-8'))\n",
    "        \n",
    "        s.sendmail(ADDRESS,row[7], msg.as_string())\n",
    "        print(message)\n",
    "        del msg\n",
    "        s.quit()\n",
    "\n"
   ]
  },
  {
   "cell_type": "code",
   "execution_count": null,
   "metadata": {},
   "outputs": [],
   "source": []
  }
 ],
 "metadata": {
  "colab": {
   "collapsed_sections": [],
   "name": "Custom_Emails.ipynb",
   "provenance": []
  },
  "kernelspec": {
   "display_name": "Python 3",
   "language": "python",
   "name": "python3"
  },
  "language_info": {
   "codemirror_mode": {
    "name": "ipython",
    "version": 3
   },
   "file_extension": ".py",
   "mimetype": "text/x-python",
   "name": "python",
   "nbconvert_exporter": "python",
   "pygments_lexer": "ipython3",
   "version": "3.8.3"
  }
 },
 "nbformat": 4,
 "nbformat_minor": 1
}
