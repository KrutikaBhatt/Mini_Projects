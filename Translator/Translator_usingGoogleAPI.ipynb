{
  "nbformat": 4,
  "nbformat_minor": 0,
  "metadata": {
    "colab": {
      "name": "Translator_usingGoogleAPI.ipynb",
      "provenance": [],
      "collapsed_sections": []
    },
    "kernelspec": {
      "name": "python3",
      "display_name": "Python 3"
    }
  },
  "cells": [
    {
      "cell_type": "markdown",
      "metadata": {
        "id": "AVS1V_irRac7"
      },
      "source": [
        "### **Translate using Python using Google Translation API**"
      ]
    },
    {
      "cell_type": "markdown",
      "metadata": {
        "id": "PKKRFdEdSBt2"
      },
      "source": [
        "To translate using python, we have a package called googletrans, which helps us to access the Google Translation API \n",
        "\n",
        "-Install it :-pip install googletrans"
      ]
    },
    {
      "cell_type": "code",
      "metadata": {
        "id": "ExEGwPJ_RVuI"
      },
      "source": [
        "#!pip install googletrans\n",
        "\n",
        "import pandas as pd\n",
        "from googletrans import Translator"
      ],
      "execution_count": null,
      "outputs": []
    },
    {
      "cell_type": "code",
      "metadata": {
        "id": "IRPJwo4_ThFu",
        "outputId": "0d291d2a-fd60-4b1f-bf47-14bbec30629e",
        "colab": {
          "base_uri": "https://localhost:8080/",
          "height": 208
        }
      },
      "source": [
        "data = pd.read_csv(\"https://raw.githubusercontent.com/amankharwal/Website-data/master/hindi.csv\")\n",
        "print(data)"
      ],
      "execution_count": null,
      "outputs": [
        {
          "output_type": "stream",
          "text": [
            "  Vegetable Names\n",
            "0           गाजर \n",
            "1     शिमला मिर्च\n",
            "2         भिन्डी \n",
            "3          मक्का \n",
            "4       लाल मिर्च\n",
            "5           खीरा \n",
            "6       कढ़ी पत्ता\n",
            "7           बैगन \n",
            "8          लहसुन \n",
            "9           अदरक \n"
          ],
          "name": "stdout"
        }
      ]
    },
    {
      "cell_type": "code",
      "metadata": {
        "id": "c6HQorLaVebO",
        "outputId": "24678d9f-59a6-4177-8b6e-59ffeb65628b",
        "colab": {
          "base_uri": "https://localhost:8080/",
          "height": 191
        }
      },
      "source": [
        "translator = Translator()\n",
        "translation_file = {}\n",
        "\n",
        "for item in data.columns:\n",
        "  unique = data[item].unique()\n",
        "\n",
        "  for element in unique:\n",
        "    translation_file[element] = translator.translate(element).text\n",
        "\n",
        "for i in translation_file.items():\n",
        "  print(i)\n",
        "\n"
      ],
      "execution_count": null,
      "outputs": [
        {
          "output_type": "stream",
          "text": [
            "('गाजर ', 'carrot')\n",
            "('शिमला मिर्च', 'capsicum')\n",
            "('भिन्डी ', 'Lady finger')\n",
            "('मक्का ', 'Corn')\n",
            "('लाल मिर्च', 'Red chilly')\n",
            "('खीरा ', 'Cucumber')\n",
            "('कढ़ी पत्ता', 'Curry leaves')\n",
            "('बैगन ', 'Brinjal')\n",
            "('लहसुन ', 'Garlic')\n",
            "('अदरक ', 'Ginger')\n"
          ],
          "name": "stdout"
        }
      ]
    },
    {
      "cell_type": "markdown",
      "metadata": {
        "id": "qfLxt51hXCl_"
      },
      "source": [
        "Replace the data file with the translated words"
      ]
    },
    {
      "cell_type": "code",
      "metadata": {
        "id": "JiWbD4_VW-I7",
        "outputId": "d398508c-8ba2-4fbc-8e78-9be17390f4ec",
        "colab": {
          "base_uri": "https://localhost:8080/",
          "height": 208
        }
      },
      "source": [
        "data.replace(translation_file,inplace = True)\n",
        "print(data)\n"
      ],
      "execution_count": null,
      "outputs": [
        {
          "output_type": "stream",
          "text": [
            "  Vegetable Names\n",
            "0          carrot\n",
            "1        capsicum\n",
            "2     Lady finger\n",
            "3            Corn\n",
            "4      Red chilly\n",
            "5        Cucumber\n",
            "6    Curry leaves\n",
            "7         Brinjal\n",
            "8          Garlic\n",
            "9          Ginger\n"
          ],
          "name": "stdout"
        }
      ]
    },
    {
      "cell_type": "code",
      "metadata": {
        "id": "56JN07rhV5gI",
        "outputId": "b5919492-e2e5-4a92-c8f2-b4fc088073a9",
        "colab": {
          "base_uri": "https://localhost:8080/",
          "height": 677
        }
      },
      "source": [
        "import pandas as pd\n",
        "df = pd.read_csv(\"https://raw.githubusercontent.com/amankharwal/Website-data/master/colors.csv\")\n",
        "df.head(20)"
      ],
      "execution_count": null,
      "outputs": [
        {
          "output_type": "execute_result",
          "data": {
            "text/html": [
              "<div>\n",
              "<style scoped>\n",
              "    .dataframe tbody tr th:only-of-type {\n",
              "        vertical-align: middle;\n",
              "    }\n",
              "\n",
              "    .dataframe tbody tr th {\n",
              "        vertical-align: top;\n",
              "    }\n",
              "\n",
              "    .dataframe thead th {\n",
              "        text-align: right;\n",
              "    }\n",
              "</style>\n",
              "<table border=\"1\" class=\"dataframe\">\n",
              "  <thead>\n",
              "    <tr style=\"text-align: right;\">\n",
              "      <th></th>\n",
              "      <th>air_force_blue_raf</th>\n",
              "      <th>Air Force Blue (Raf)</th>\n",
              "      <th>#5d8aa8</th>\n",
              "      <th>93</th>\n",
              "      <th>138</th>\n",
              "      <th>168</th>\n",
              "    </tr>\n",
              "  </thead>\n",
              "  <tbody>\n",
              "    <tr>\n",
              "      <th>0</th>\n",
              "      <td>air_force_blue_usaf</td>\n",
              "      <td>Air Force Blue (Usaf)</td>\n",
              "      <td>#00308f</td>\n",
              "      <td>0</td>\n",
              "      <td>48</td>\n",
              "      <td>143</td>\n",
              "    </tr>\n",
              "    <tr>\n",
              "      <th>1</th>\n",
              "      <td>air_superiority_blue</td>\n",
              "      <td>Air Superiority Blue</td>\n",
              "      <td>#72a0c1</td>\n",
              "      <td>114</td>\n",
              "      <td>160</td>\n",
              "      <td>193</td>\n",
              "    </tr>\n",
              "    <tr>\n",
              "      <th>2</th>\n",
              "      <td>alabama_crimson</td>\n",
              "      <td>Alabama Crimson</td>\n",
              "      <td>#a32638</td>\n",
              "      <td>163</td>\n",
              "      <td>38</td>\n",
              "      <td>56</td>\n",
              "    </tr>\n",
              "    <tr>\n",
              "      <th>3</th>\n",
              "      <td>alice_blue</td>\n",
              "      <td>Alice Blue</td>\n",
              "      <td>#f0f8ff</td>\n",
              "      <td>240</td>\n",
              "      <td>248</td>\n",
              "      <td>255</td>\n",
              "    </tr>\n",
              "    <tr>\n",
              "      <th>4</th>\n",
              "      <td>alizarin_crimson</td>\n",
              "      <td>Alizarin Crimson</td>\n",
              "      <td>#e32636</td>\n",
              "      <td>227</td>\n",
              "      <td>38</td>\n",
              "      <td>54</td>\n",
              "    </tr>\n",
              "    <tr>\n",
              "      <th>5</th>\n",
              "      <td>alloy_orange</td>\n",
              "      <td>Alloy Orange</td>\n",
              "      <td>#c46210</td>\n",
              "      <td>196</td>\n",
              "      <td>98</td>\n",
              "      <td>16</td>\n",
              "    </tr>\n",
              "    <tr>\n",
              "      <th>6</th>\n",
              "      <td>almond</td>\n",
              "      <td>Almond</td>\n",
              "      <td>#efdecd</td>\n",
              "      <td>239</td>\n",
              "      <td>222</td>\n",
              "      <td>205</td>\n",
              "    </tr>\n",
              "    <tr>\n",
              "      <th>7</th>\n",
              "      <td>amaranth</td>\n",
              "      <td>Amaranth</td>\n",
              "      <td>#e52b50</td>\n",
              "      <td>229</td>\n",
              "      <td>43</td>\n",
              "      <td>80</td>\n",
              "    </tr>\n",
              "    <tr>\n",
              "      <th>8</th>\n",
              "      <td>amber</td>\n",
              "      <td>Amber</td>\n",
              "      <td>#ffbf00</td>\n",
              "      <td>255</td>\n",
              "      <td>191</td>\n",
              "      <td>0</td>\n",
              "    </tr>\n",
              "    <tr>\n",
              "      <th>9</th>\n",
              "      <td>amber_sae_ece</td>\n",
              "      <td>Amber (Sae/Ece)</td>\n",
              "      <td>#ff7e00</td>\n",
              "      <td>255</td>\n",
              "      <td>126</td>\n",
              "      <td>0</td>\n",
              "    </tr>\n",
              "    <tr>\n",
              "      <th>10</th>\n",
              "      <td>american_rose</td>\n",
              "      <td>American Rose</td>\n",
              "      <td>#ff033e</td>\n",
              "      <td>255</td>\n",
              "      <td>3</td>\n",
              "      <td>62</td>\n",
              "    </tr>\n",
              "    <tr>\n",
              "      <th>11</th>\n",
              "      <td>amethyst</td>\n",
              "      <td>Amethyst</td>\n",
              "      <td>#96c</td>\n",
              "      <td>153</td>\n",
              "      <td>102</td>\n",
              "      <td>204</td>\n",
              "    </tr>\n",
              "    <tr>\n",
              "      <th>12</th>\n",
              "      <td>android_green</td>\n",
              "      <td>Android Green</td>\n",
              "      <td>#a4c639</td>\n",
              "      <td>164</td>\n",
              "      <td>198</td>\n",
              "      <td>57</td>\n",
              "    </tr>\n",
              "    <tr>\n",
              "      <th>13</th>\n",
              "      <td>anti_flash_white</td>\n",
              "      <td>Anti-Flash White</td>\n",
              "      <td>#f2f3f4</td>\n",
              "      <td>242</td>\n",
              "      <td>243</td>\n",
              "      <td>244</td>\n",
              "    </tr>\n",
              "    <tr>\n",
              "      <th>14</th>\n",
              "      <td>antique_brass</td>\n",
              "      <td>Antique Brass</td>\n",
              "      <td>#cd9575</td>\n",
              "      <td>205</td>\n",
              "      <td>149</td>\n",
              "      <td>117</td>\n",
              "    </tr>\n",
              "    <tr>\n",
              "      <th>15</th>\n",
              "      <td>antique_fuchsia</td>\n",
              "      <td>Antique Fuchsia</td>\n",
              "      <td>#915c83</td>\n",
              "      <td>145</td>\n",
              "      <td>92</td>\n",
              "      <td>131</td>\n",
              "    </tr>\n",
              "    <tr>\n",
              "      <th>16</th>\n",
              "      <td>antique_ruby</td>\n",
              "      <td>Antique Ruby</td>\n",
              "      <td>#841b2d</td>\n",
              "      <td>132</td>\n",
              "      <td>27</td>\n",
              "      <td>45</td>\n",
              "    </tr>\n",
              "    <tr>\n",
              "      <th>17</th>\n",
              "      <td>antique_white</td>\n",
              "      <td>Antique White</td>\n",
              "      <td>#faebd7</td>\n",
              "      <td>250</td>\n",
              "      <td>235</td>\n",
              "      <td>215</td>\n",
              "    </tr>\n",
              "    <tr>\n",
              "      <th>18</th>\n",
              "      <td>ao_english</td>\n",
              "      <td>Ao (English)</td>\n",
              "      <td>#008000</td>\n",
              "      <td>0</td>\n",
              "      <td>128</td>\n",
              "      <td>0</td>\n",
              "    </tr>\n",
              "    <tr>\n",
              "      <th>19</th>\n",
              "      <td>apple_green</td>\n",
              "      <td>Apple Green</td>\n",
              "      <td>#8db600</td>\n",
              "      <td>141</td>\n",
              "      <td>182</td>\n",
              "      <td>0</td>\n",
              "    </tr>\n",
              "  </tbody>\n",
              "</table>\n",
              "</div>"
            ],
            "text/plain": [
              "      air_force_blue_raf   Air Force Blue (Raf)  #5d8aa8   93  138  168\n",
              "0    air_force_blue_usaf  Air Force Blue (Usaf)  #00308f    0   48  143\n",
              "1   air_superiority_blue   Air Superiority Blue  #72a0c1  114  160  193\n",
              "2        alabama_crimson        Alabama Crimson  #a32638  163   38   56\n",
              "3             alice_blue             Alice Blue  #f0f8ff  240  248  255\n",
              "4       alizarin_crimson       Alizarin Crimson  #e32636  227   38   54\n",
              "5           alloy_orange           Alloy Orange  #c46210  196   98   16\n",
              "6                 almond                 Almond  #efdecd  239  222  205\n",
              "7               amaranth               Amaranth  #e52b50  229   43   80\n",
              "8                  amber                  Amber  #ffbf00  255  191    0\n",
              "9          amber_sae_ece        Amber (Sae/Ece)  #ff7e00  255  126    0\n",
              "10         american_rose          American Rose  #ff033e  255    3   62\n",
              "11              amethyst               Amethyst     #96c  153  102  204\n",
              "12         android_green          Android Green  #a4c639  164  198   57\n",
              "13      anti_flash_white       Anti-Flash White  #f2f3f4  242  243  244\n",
              "14         antique_brass          Antique Brass  #cd9575  205  149  117\n",
              "15       antique_fuchsia        Antique Fuchsia  #915c83  145   92  131\n",
              "16          antique_ruby           Antique Ruby  #841b2d  132   27   45\n",
              "17         antique_white          Antique White  #faebd7  250  235  215\n",
              "18            ao_english           Ao (English)  #008000    0  128    0\n",
              "19           apple_green            Apple Green  #8db600  141  182    0"
            ]
          },
          "metadata": {
            "tags": []
          },
          "execution_count": 1
        }
      ]
    },
    {
      "cell_type": "code",
      "metadata": {
        "id": "srvMcpRdWidW",
        "outputId": "96784128-3b0a-4295-e32d-9261c47b3169",
        "colab": {
          "base_uri": "https://localhost:8080/",
          "height": 52
        }
      },
      "source": [
        "print(len(df))\n",
        "df.shape"
      ],
      "execution_count": null,
      "outputs": [
        {
          "output_type": "stream",
          "text": [
            "864\n"
          ],
          "name": "stdout"
        },
        {
          "output_type": "execute_result",
          "data": {
            "text/plain": [
              "(864, 6)"
            ]
          },
          "metadata": {
            "tags": []
          },
          "execution_count": 3
        }
      ]
    },
    {
      "cell_type": "code",
      "metadata": {
        "id": "olQ5KalwW8ip",
        "outputId": "b9995436-6bd2-4059-da7f-a198f851ef8d",
        "colab": {
          "base_uri": "https://localhost:8080/",
          "height": 34
        }
      },
      "source": [
        "df.loc[0,\"93\"]"
      ],
      "execution_count": null,
      "outputs": [
        {
          "output_type": "execute_result",
          "data": {
            "text/plain": [
              "0"
            ]
          },
          "metadata": {
            "tags": []
          },
          "execution_count": 10
        }
      ]
    }
  ]
}